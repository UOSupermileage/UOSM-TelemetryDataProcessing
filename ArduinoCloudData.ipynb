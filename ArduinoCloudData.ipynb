{
 "cells": [
  {
   "cell_type": "markdown",
   "metadata": {},
   "source": [
    "# Telemetry data fetching & processing"
   ]
  },
  {
   "cell_type": "markdown",
   "metadata": {},
   "source": [
    "## Data Ingestion"
   ]
  },
  {
   "cell_type": "code",
   "execution_count": null,
   "metadata": {},
   "outputs": [],
   "source": [
    "#Load API credentials from .env file & initialize global variables \n",
    "\n",
    "import os\n",
    "from dotenv import load_dotenv\n",
    "\n",
    "# Load secret .env file\n",
    "load_dotenv()\n",
    "\n",
    "# Store credentials\n",
    "CLIENT_ID = os.getenv('CLIENT_ID')\n",
    "CLIENT_SECRET = os.getenv('CLIENT_SECRET')\n",
    "\n",
    "# Verify it worked\n",
    "#if CLIENT_ID is not None and CLIENT_SECRET is not None:\n",
    "    #print(CLIENT_ID)\n",
    "    #print(CLIENT_SECRET)\n",
    "\n",
    "#other global variables\n",
    "THING_ID = \"7db1852a-9709-471f-b049-7505253ceaad\" #id of Arduino Thing of interest\n",
    "SPACE_ID = '6b795d20-54e3-483c-a322-7114527741a1' #id of the shared space needed to access data"
   ]
  }
 ],
 "metadata": {
  "kernelspec": {
   "display_name": "uosm",
   "language": "python",
   "name": "python3"
  },
  "language_info": {
   "name": "python",
   "version": "3.11.5"
  }
 },
 "nbformat": 4,
 "nbformat_minor": 2
}
